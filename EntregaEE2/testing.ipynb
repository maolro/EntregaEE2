{
 "cells": [
  {
   "cell_type": "code",
   "execution_count": 5,
   "id": "d0800099-e75f-4108-9cda-5e0279e9bca4",
   "metadata": {},
   "outputs": [
    {
     "name": "stdout",
     "output_type": "stream",
     "text": [
      "\u001b[0m15:52:31  Running with dbt=1.8.9\n",
      "\u001b[0m15:52:33  Updating lock file in file path: /home/jovyan/dbt/workspace/package-lock.yml\n",
      "\u001b[0m15:52:33  Installing dbt-labs/dbt_utils\n",
      "\u001b[0m15:52:33  Installed from version 1.1.1\n",
      "\u001b[0m15:52:33  Updated version available: 1.3.0\n",
      "\u001b[0m15:52:33  Installing dbt-labs/codegen\n",
      "\u001b[0m15:52:34  Installed from version 0.11.0\n",
      "\u001b[0m15:52:34  Updated version available: 0.13.1\n",
      "\u001b[0m15:52:34  \n",
      "\u001b[0m15:52:34  Updates available for packages: ['dbt-labs/dbt_utils', 'dbt-labs/codegen']                 \n",
      "Update your versions in packages.yml, then run dbt deps\n"
     ]
    }
   ],
   "source": [
    "!dbt deps"
   ]
  },
  {
   "cell_type": "code",
   "execution_count": 11,
   "id": "705b435c-a145-42c6-9a1f-453943ce013f",
   "metadata": {},
   "outputs": [
    {
     "name": "stdout",
     "output_type": "stream",
     "text": [
      "\u001b[0m16:06:09  Running with dbt=1.8.9\n",
      "\u001b[0m16:06:09  dbt version: 1.8.9\n",
      "\u001b[0m16:06:09  python version: 3.12.9\n",
      "\u001b[0m16:06:09  python path: /opt/conda/bin/python3.12\n",
      "\u001b[0m16:06:09  os info: Linux-5.15.167.4-microsoft-standard-WSL2-x86_64-with-glibc2.39\n",
      "\u001b[0m16:06:09  Using profiles dir at /home/jovyan/dbt/workspace\n",
      "\u001b[0m16:06:09  Using profiles.yml file at /home/jovyan/dbt/workspace/profiles.yml\n",
      "\u001b[0m16:06:09  Using dbt_project.yml file at /home/jovyan/dbt/workspace/dbt_project.yml\n",
      "\u001b[0m16:06:09  adapter type: clickhouse\n",
      "\u001b[0m16:06:09  adapter version: 1.8.9\n",
      "\u001b[0m16:06:09  Configuration:\n",
      "\u001b[0m16:06:09    profiles.yml file [\u001b[32mOK found and valid\u001b[0m]\n",
      "\u001b[0m16:06:09    dbt_project.yml file [\u001b[32mOK found and valid\u001b[0m]\n",
      "\u001b[0m16:06:09  Required dependencies:\n",
      "\u001b[0m16:06:09   - git [\u001b[32mOK found\u001b[0m]\n",
      "\n",
      "\u001b[0m16:06:09  Connection:\n",
      "\u001b[0m16:06:09    driver: None\n",
      "\u001b[0m16:06:09    host: clickhouse\n",
      "\u001b[0m16:06:09    port: 8123\n",
      "\u001b[0m16:06:09    user: usuario_sak\n",
      "\u001b[0m16:06:09    schema: adw09\n",
      "\u001b[0m16:06:09    retries: 1\n",
      "\u001b[0m16:06:09    database_engine: None\n",
      "\u001b[0m16:06:09    cluster_mode: False\n",
      "\u001b[0m16:06:09    secure: False\n",
      "\u001b[0m16:06:09    verify: True\n",
      "\u001b[0m16:06:09    client_cert: None\n",
      "\u001b[0m16:06:09    client_cert_key: None\n",
      "\u001b[0m16:06:09    connect_timeout: 10\n",
      "\u001b[0m16:06:09    send_receive_timeout: 300\n",
      "\u001b[0m16:06:09    sync_request_timeout: 5\n",
      "\u001b[0m16:06:09    compress_block_size: 1048576\n",
      "\u001b[0m16:06:09    compression: \n",
      "\u001b[0m16:06:09    check_exchange: True\n",
      "\u001b[0m16:06:09    custom_settings: None\n",
      "\u001b[0m16:06:09    use_lw_deletes: False\n",
      "\u001b[0m16:06:09    allow_automatic_deduplication: False\n",
      "\u001b[0m16:06:09    tcp_keepalive: False\n",
      "\u001b[0m16:06:09  Registered adapter: clickhouse=1.8.9\n",
      "\u001b[0m16:06:10    Connection test: [\u001b[32mOK connection ok\u001b[0m]\n",
      "\n",
      "\u001b[0m16:06:10  \u001b[32mAll checks passed!\u001b[0m\n"
     ]
    }
   ],
   "source": [
    "!dbt debug"
   ]
  },
  {
   "cell_type": "code",
   "execution_count": 16,
   "id": "924e6897-e606-4865-b0e9-3970703d51b5",
   "metadata": {},
   "outputs": [
    {
     "name": "stdout",
     "output_type": "stream",
     "text": [
      "\u001b[0m16:11:49  Running with dbt=1.8.9\n",
      "\u001b[0m16:11:50  Registered adapter: clickhouse=1.8.9\n",
      "\u001b[0m16:11:50  Found 10 models, 23 data tests, 1 snapshot, 13 sources, 605 macros\n",
      "\u001b[0m16:11:50  \n",
      "\u001b[0m16:11:52  Concurrency: 1 threads (target='clickhouse')\n",
      "\u001b[0m16:11:52  \n",
      "\u001b[0m16:11:52  1 of 10 START sql view model `adw09_stag`.`stg_customer` ....................... [RUN]\n",
      "\u001b[0m16:11:52  1 of 10 OK created sql view model `adw09_stag`.`stg_customer` .................. [\u001b[32mOK\u001b[0m in 0.16s]\n",
      "\u001b[0m16:11:52  2 of 10 START sql view model `adw09_stag`.`stg_film` ........................... [RUN]\n",
      "\u001b[0m16:11:52  2 of 10 OK created sql view model `adw09_stag`.`stg_film` ...................... [\u001b[32mOK\u001b[0m in 0.06s]\n",
      "\u001b[0m16:11:52  3 of 10 START sql view model `adw09_stag`.`stg_rentals` ........................ [RUN]\n",
      "\u001b[0m16:11:52  3 of 10 OK created sql view model `adw09_stag`.`stg_rentals` ................... [\u001b[32mOK\u001b[0m in 0.05s]\n",
      "\u001b[0m16:11:52  4 of 10 START sql view model `adw09_stag`.`stg_staff` .......................... [RUN]\n",
      "\u001b[0m16:11:52  4 of 10 OK created sql view model `adw09_stag`.`stg_staff` ..................... [\u001b[32mOK\u001b[0m in 0.06s]\n",
      "\u001b[0m16:11:52  5 of 10 START sql view model `adw09_stag`.`stg_store` .......................... [RUN]\n",
      "\u001b[0m16:11:52  5 of 10 OK created sql view model `adw09_stag`.`stg_store` ..................... [\u001b[32mOK\u001b[0m in 0.06s]\n",
      "\u001b[0m16:11:52  6 of 10 START sql incremental model `adw09_star`.`dim_customer` ................ [RUN]\n",
      "\u001b[0m16:11:53  6 of 10 OK created sql incremental model `adw09_star`.`dim_customer` ........... [\u001b[32mOK\u001b[0m in 0.61s]\n",
      "\u001b[0m16:11:53  7 of 10 START sql incremental model `adw09_star`.`dim_film` .................... [RUN]\n",
      "\u001b[0m16:11:53  7 of 10 OK created sql incremental model `adw09_star`.`dim_film` ............... [\u001b[32mOK\u001b[0m in 0.32s]\n",
      "\u001b[0m16:11:53  8 of 10 START sql incremental model `adw09_star`.`dim_staff` ................... [RUN]\n",
      "\u001b[0m16:11:53  8 of 10 OK created sql incremental model `adw09_star`.`dim_staff` .............. [\u001b[32mOK\u001b[0m in 0.28s]\n",
      "\u001b[0m16:11:53  9 of 10 START sql incremental model `adw09_star`.`dim_store` ................... [RUN]\n",
      "\u001b[0m16:11:54  9 of 10 OK created sql incremental model `adw09_star`.`dim_store` .............. [\u001b[32mOK\u001b[0m in 0.34s]\n",
      "\u001b[0m16:11:54  10 of 10 START sql incremental model `adw09_star`.`fct_rentals` ................ [RUN]\n",
      "\u001b[0m16:11:54  10 of 10 ERROR creating sql incremental model `adw09_star`.`fct_rentals` ....... [\u001b[31mERROR\u001b[0m in 0.05s]\n",
      "\u001b[0m16:11:54  \n",
      "\u001b[0m16:11:54  Finished running 5 view models, 5 incremental models in 0 hours 0 minutes and 3.21 seconds (3.21s).\n",
      "\u001b[0m16:11:54  \n",
      "\u001b[0m16:11:54  \u001b[31mCompleted with 1 error and 0 warnings:\u001b[0m\n",
      "\u001b[0m16:11:54  \n",
      "\u001b[0m16:11:54    Database Error in model fct_rentals (models/marts/fact/fct_rentals/fct_rentals.sql)\n",
      "  HTTPDriver for http://clickhouse:8123 received ClickHouse error code 1\n",
      "   Code: 1. DB::Exception: Resolved identifier 'rental_date' in parent scope to expression 'adw09_stag.stg_rentals.rental_date' with correlated column 'rental_date' (Enable 'allow_experimental_correlated_subqueries' setting to allow correlated subqueries execution). In scope (SELECT max(rental_date) FROM adw09_star.fct_rentals). (UNSUPPORTED_METHOD) (version 25.4.1.2934 (official build))\n",
      "\u001b[0m16:11:54  \n",
      "\u001b[0m16:11:54  Done. PASS=9 WARN=0 ERROR=1 SKIP=0 TOTAL=10\n"
     ]
    }
   ],
   "source": [
    "!dbt run"
   ]
  },
  {
   "cell_type": "code",
   "execution_count": null,
   "id": "6fee3bc7-1db5-461d-b4bf-ba04e4b66894",
   "metadata": {},
   "outputs": [],
   "source": []
  }
 ],
 "metadata": {
  "kernelspec": {
   "display_name": "Python 3 (ipykernel)",
   "language": "python",
   "name": "python3"
  },
  "language_info": {
   "codemirror_mode": {
    "name": "ipython",
    "version": 3
   },
   "file_extension": ".py",
   "mimetype": "text/x-python",
   "name": "python",
   "nbconvert_exporter": "python",
   "pygments_lexer": "ipython3",
   "version": "3.12.9"
  }
 },
 "nbformat": 4,
 "nbformat_minor": 5
}
