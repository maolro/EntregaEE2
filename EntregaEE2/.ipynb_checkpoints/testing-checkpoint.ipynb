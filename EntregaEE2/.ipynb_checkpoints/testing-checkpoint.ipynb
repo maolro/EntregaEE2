{
 "cells": [
  {
   "cell_type": "code",
   "execution_count": null,
   "id": "705b435c-a145-42c6-9a1f-453943ce013f",
   "metadata": {},
   "outputs": [],
   "source": [
    "!dbt debug"
   ]
  },
  {
   "cell_type": "code",
   "execution_count": null,
   "id": "924e6897-e606-4865-b0e9-3970703d51b5",
   "metadata": {},
   "outputs": [],
   "source": []
  }
 ],
 "metadata": {
  "kernelspec": {
   "display_name": "Python 3 (ipykernel)",
   "language": "python",
   "name": "python3"
  },
  "language_info": {
   "codemirror_mode": {
    "name": "ipython",
    "version": 3
   },
   "file_extension": ".py",
   "mimetype": "text/x-python",
   "name": "python",
   "nbconvert_exporter": "python",
   "pygments_lexer": "ipython3",
   "version": "3.12.9"
  }
 },
 "nbformat": 4,
 "nbformat_minor": 5
}
