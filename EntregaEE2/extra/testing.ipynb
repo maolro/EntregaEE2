{
 "cells": [
  {
   "cell_type": "code",
   "execution_count": 2,
   "id": "fa11a337-1f59-49e2-b800-d2a0653ee727",
   "metadata": {},
   "outputs": [
    {
     "name": "stdout",
     "output_type": "stream",
     "text": [
      "\u001b[0m15:40:39  Running with dbt=1.8.9\n",
      "\u001b[0m15:40:39  dbt version: 1.8.9\n",
      "\u001b[0m15:40:39  python version: 3.12.9\n",
      "\u001b[0m15:40:39  python path: /opt/conda/bin/python3.12\n",
      "\u001b[0m15:40:39  os info: Linux-5.15.167.4-microsoft-standard-WSL2-x86_64-with-glibc2.39\n",
      "\u001b[0m15:40:39  Using profiles dir at /home/jovyan/.dbt\n",
      "\u001b[0m15:40:39  Using profiles.yml file at /home/jovyan/.dbt/profiles.yml\n",
      "\u001b[0m15:40:39  Using dbt_project.yml file at /home/jovyan/dbt/workspace/dbt_project.yml\n",
      "\u001b[0m15:40:39  Configuration:\n",
      "\u001b[0m15:40:39    profiles.yml file [\u001b[31mERROR not found\u001b[0m]\n",
      "\u001b[0m15:40:39    dbt_project.yml file [\u001b[31mERROR not found\u001b[0m]\n",
      "\u001b[0m15:40:39  Required dependencies:\n",
      "\u001b[0m15:40:39   - git [\u001b[32mOK found\u001b[0m]\n",
      "\n",
      "\u001b[0m15:40:39  Connection test skipped since no profile was found\n",
      "\u001b[0m15:40:39  \u001b[31m2 checks failed:\u001b[0m\n",
      "\u001b[0m15:40:39  dbt looked for a profiles.yml file in /home/jovyan/.dbt/profiles.yml, but did\n",
      "not find one. For more information on configuring your profile, consult the\n",
      "documentation:\n",
      "\n",
      "https://docs.getdbt.com/docs/configure-your-profile\n",
      "\n",
      "\n",
      "\u001b[0m15:40:39  Project loading failed for the following reason:\n",
      " project path </home/jovyan/dbt/workspace/dbt_project.yml> not found\n",
      "\n"
     ]
    }
   ],
   "source": [
    "!dbt debug"
   ]
  },
  {
   "cell_type": "code",
   "execution_count": null,
   "id": "48eb3286-35de-4292-97fc-00b150114a01",
   "metadata": {},
   "outputs": [],
   "source": []
  }
 ],
 "metadata": {
  "kernelspec": {
   "display_name": "Python 3 (ipykernel)",
   "language": "python",
   "name": "python3"
  },
  "language_info": {
   "codemirror_mode": {
    "name": "ipython",
    "version": 3
   },
   "file_extension": ".py",
   "mimetype": "text/x-python",
   "name": "python",
   "nbconvert_exporter": "python",
   "pygments_lexer": "ipython3",
   "version": "3.12.9"
  }
 },
 "nbformat": 4,
 "nbformat_minor": 5
}
